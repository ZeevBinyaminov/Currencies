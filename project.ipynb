{
 "cells": [
  {
   "cell_type": "code",
   "execution_count": null,
   "metadata": {
    "pycharm": {
     "name": "#%%\n"
    }
   },
   "outputs": [],
   "source": [
    "import requests\n",
    "from bs4 import BeautifulSoup\n",
    "import pandas as pd\n",
    "import datetime\n",
    "import re\n",
    "\n",
    "\n",
    "def create_currency_table():\n",
    "    pattern = re.compile('\\d{2}[./-]\\d{2}[./-]\\d{4}')  # dd/mm/yy\n",
    "    while True:\n",
    "        date = input('Введите дату')\n",
    "        if re.match(pattern=pattern, string=date):\n",
    "            break\n",
    "        print('Неверный формат ввода даты, попробуйте еще раз')\n",
    "\n",
    "    url = 'https://cbr.ru/scripts/XML_daily.asp?date_req='\n",
    "    date = '/'.join(re.split('[./-]', date))\n",
    "\n",
    "    def get_soup(url, date):\n",
    "        response = requests.get(url + date)\n",
    "        soup = BeautifulSoup(response.content, \"xml\")\n",
    "        return soup\n",
    "\n",
    "    soup1 = get_soup(url, date)\n",
    "    info = {'currency_code': list(map(lambda x: x.text, soup1.find_all('CharCode'))),\n",
    "            'currency_number': list(map(lambda x: x.text, soup1.find_all('NumCode'))),\n",
    "            'currency_name': list(map(lambda x: x.text, soup1.find_all('Name'))),\n",
    "            'currency_nominal_thisday': list(map(lambda x: float(x.text), soup1.find_all('Nominal'))),\n",
    "            'currency_value_for_nominal_thisday': list(\n",
    "                map(lambda x: float(x.text.replace(',', '.')), soup1.find_all('Value')))}\n",
    "\n",
    "    # datetime -  новое\n",
    "    def todateformat(date, split_sign='/', join_sign='-', change_type=False):\n",
    "        reformated = join_sign.join(date.split(split_sign)[::-1])\n",
    "        if change_type:\n",
    "            return datetime.date.fromisoformat(reformated)\n",
    "        return reformated\n",
    "\n",
    "    thisday = todateformat(date, change_type=True)\n",
    "\n",
    "    def find_the_day_before(date):\n",
    "        return str(date - datetime.timedelta(days=1))\n",
    "\n",
    "    before = todateformat(find_the_day_before(thisday), split_sign='-', join_sign='/')\n",
    "\n",
    "    soup2 = get_soup(url, before)\n",
    "    info['currency_value_for_nominal_before'] = list(\n",
    "        map(lambda x: float(x.text.replace(',', '.')), soup2.find_all('Value')))\n",
    "\n",
    "    # работа с pandas\n",
    "    df = pd.DataFrame(info)\n",
    "    df['currency_value_for_one_unit_thisday'] = (df['currency_value_for_nominal_thisday'] /\n",
    "                                                df['currency_nominal_thisday'])\n",
    "\n",
    "    df['currency_value_for_one_unit_before'] = (df['currency_value_for_nominal_before'] /\n",
    "                                               df['currency_nominal_thisday'])\n",
    "    df['currency_value_dinamics'] = (df['currency_value_for_one_unit_thisday'] /\n",
    "                                     df['currency_value_for_one_unit_before']) - 1\n",
    "\n",
    "\n",
    "    def result(perc):\n",
    "        if perc < 0:\n",
    "            return 'depreciated'\n",
    "        elif perc > 0:\n",
    "            return 'appreciated'\n",
    "        else:\n",
    "            return \"didn't change\"\n",
    "\n",
    "\n",
    "    df['dinamics_result'] = df['currency_value_dinamics'].apply(result)\n",
    "    return df\n",
    "\n",
    "df = create_currency_table()"
   ]
  },
  {
   "cell_type": "code",
   "execution_count": null,
   "metadata": {
    "pycharm": {
     "name": "#%%\n"
    }
   },
   "outputs": [],
   "source": [
    "# Вывод таблицы\n",
    "df"
   ]
  },
  {
   "cell_type": "code",
   "execution_count": null,
   "metadata": {
    "pycharm": {
     "name": "#%%\n"
    }
   },
   "outputs": [],
   "source": [
    "# Сохранение файла в виде Excel таблицы\n",
    "path = input()\n",
    "filename = input()\n",
    "df.to_excel(f'{path + filename}.xlsx')"
   ]
  },
  {
   "cell_type": "code",
   "execution_count": null,
   "metadata": {
    "pycharm": {
     "name": "#%%\n"
    }
   },
   "outputs": [],
   "source": []
  }
 ],
 "metadata": {
  "interpreter": {
   "hash": "efb997ee186e38d2e70e320b7a54f5a878d720dada3d3f37df20b4604e05a5dd"
  },
  "kernelspec": {
   "display_name": "Python 3.8.5",
   "language": "python",
   "name": "python3"
  },
  "language_info": {
   "codemirror_mode": {
    "name": "ipython",
    "version": 3
   },
   "file_extension": ".py",
   "mimetype": "text/x-python",
   "name": "python",
   "nbconvert_exporter": "python",
   "pygments_lexer": "ipython3",
   "version": "3.8.5"
  },
  "orig_nbformat": 4
 },
 "nbformat": 4,
 "nbformat_minor": 2
}